{
 "cells": [
  {
   "cell_type": "markdown",
   "metadata": {},
   "source": [
    "# Use this notebook for your 3 choices of APIs"
   ]
  },
  {
   "cell_type": "markdown",
   "metadata": {},
   "source": [
    "# Dog Facts"
   ]
  },
  {
   "cell_type": "code",
   "execution_count": 1,
   "metadata": {},
   "outputs": [],
   "source": [
    "import pandas as pd\n",
    "import requests\n",
    "import json\n",
    "\n",
    "dog = requests.get('http://dog-api.kinduff.com/api/facts?number=5')"
   ]
  },
  {
   "cell_type": "code",
   "execution_count": 2,
   "metadata": {},
   "outputs": [
    {
     "data": {
      "text/plain": [
       "requests.models.Response"
      ]
     },
     "execution_count": 2,
     "metadata": {},
     "output_type": "execute_result"
    }
   ],
   "source": [
    "type(dog)"
   ]
  },
  {
   "cell_type": "code",
   "execution_count": 3,
   "metadata": {},
   "outputs": [
    {
     "data": {
      "text/plain": [
       "{'facts': ['There is a dog-shaped building in New Zealand.',\n",
       "  'The Labrador Retriever is the most popular breed, according to the American Kennel Club.',\n",
       "  'Teddy Roosevelt’s dog, Pete, ripped a French ambassador’s pants off at the White House.',\n",
       "  \"Spiked dog collars were used to protect dogs' throats from wolf attacks in ancient Greece.\",\n",
       "  'Dogs who bark the most: Miniature Schnauzers, Cairn Terriers, Yorkshire Terriers, Fox Terriers and West Highland White Terriers.'],\n",
       " 'success': True}"
      ]
     },
     "execution_count": 3,
     "metadata": {},
     "output_type": "execute_result"
    }
   ],
   "source": [
    "data = dog.json()\n",
    "data"
   ]
  },
  {
   "cell_type": "code",
   "execution_count": 4,
   "metadata": {},
   "outputs": [
    {
     "data": {
      "text/html": [
       "<div>\n",
       "<style scoped>\n",
       "    .dataframe tbody tr th:only-of-type {\n",
       "        vertical-align: middle;\n",
       "    }\n",
       "\n",
       "    .dataframe tbody tr th {\n",
       "        vertical-align: top;\n",
       "    }\n",
       "\n",
       "    .dataframe thead th {\n",
       "        text-align: right;\n",
       "    }\n",
       "</style>\n",
       "<table border=\"1\" class=\"dataframe\">\n",
       "  <thead>\n",
       "    <tr style=\"text-align: right;\">\n",
       "      <th></th>\n",
       "      <th>facts</th>\n",
       "      <th>success</th>\n",
       "    </tr>\n",
       "  </thead>\n",
       "  <tbody>\n",
       "    <tr>\n",
       "      <th>0</th>\n",
       "      <td>There is a dog-shaped building in New Zealand.</td>\n",
       "      <td>True</td>\n",
       "    </tr>\n",
       "    <tr>\n",
       "      <th>1</th>\n",
       "      <td>The Labrador Retriever is the most popular bre...</td>\n",
       "      <td>True</td>\n",
       "    </tr>\n",
       "    <tr>\n",
       "      <th>2</th>\n",
       "      <td>Teddy Roosevelt’s dog, Pete, ripped a French a...</td>\n",
       "      <td>True</td>\n",
       "    </tr>\n",
       "    <tr>\n",
       "      <th>3</th>\n",
       "      <td>Spiked dog collars were used to protect dogs' ...</td>\n",
       "      <td>True</td>\n",
       "    </tr>\n",
       "    <tr>\n",
       "      <th>4</th>\n",
       "      <td>Dogs who bark the most: Miniature Schnauzers, ...</td>\n",
       "      <td>True</td>\n",
       "    </tr>\n",
       "  </tbody>\n",
       "</table>\n",
       "</div>"
      ],
      "text/plain": [
       "                                               facts  success\n",
       "0     There is a dog-shaped building in New Zealand.     True\n",
       "1  The Labrador Retriever is the most popular bre...     True\n",
       "2  Teddy Roosevelt’s dog, Pete, ripped a French a...     True\n",
       "3  Spiked dog collars were used to protect dogs' ...     True\n",
       "4  Dogs who bark the most: Miniature Schnauzers, ...     True"
      ]
     },
     "execution_count": 4,
     "metadata": {},
     "output_type": "execute_result"
    }
   ],
   "source": [
    "df = pd.DataFrame(dog.json())\n",
    "df"
   ]
  },
  {
   "cell_type": "markdown",
   "metadata": {},
   "source": [
    "# Colormind"
   ]
  },
  {
   "cell_type": "code",
   "execution_count": 5,
   "metadata": {},
   "outputs": [],
   "source": [
    "colors = requests.get('http://colormind.io/list/')"
   ]
  },
  {
   "cell_type": "code",
   "execution_count": 6,
   "metadata": {},
   "outputs": [
    {
     "data": {
      "text/plain": [
       "requests.models.Response"
      ]
     },
     "execution_count": 6,
     "metadata": {},
     "output_type": "execute_result"
    }
   ],
   "source": [
    "type(colors)"
   ]
  },
  {
   "cell_type": "code",
   "execution_count": 7,
   "metadata": {},
   "outputs": [
    {
     "data": {
      "text/plain": [
       "{'result': ['ui',\n",
       "  'default',\n",
       "  'raise_the_red_lantern',\n",
       "  'the_wind_rises',\n",
       "  'pokemon_crystal',\n",
       "  'fauvism']}"
      ]
     },
     "execution_count": 7,
     "metadata": {},
     "output_type": "execute_result"
    }
   ],
   "source": [
    "data = colors.json()\n",
    "data"
   ]
  },
  {
   "cell_type": "code",
   "execution_count": 8,
   "metadata": {},
   "outputs": [
    {
     "data": {
      "text/html": [
       "<div>\n",
       "<style scoped>\n",
       "    .dataframe tbody tr th:only-of-type {\n",
       "        vertical-align: middle;\n",
       "    }\n",
       "\n",
       "    .dataframe tbody tr th {\n",
       "        vertical-align: top;\n",
       "    }\n",
       "\n",
       "    .dataframe thead th {\n",
       "        text-align: right;\n",
       "    }\n",
       "</style>\n",
       "<table border=\"1\" class=\"dataframe\">\n",
       "  <thead>\n",
       "    <tr style=\"text-align: right;\">\n",
       "      <th></th>\n",
       "      <th>result</th>\n",
       "    </tr>\n",
       "  </thead>\n",
       "  <tbody>\n",
       "    <tr>\n",
       "      <th>0</th>\n",
       "      <td>ui</td>\n",
       "    </tr>\n",
       "    <tr>\n",
       "      <th>1</th>\n",
       "      <td>default</td>\n",
       "    </tr>\n",
       "    <tr>\n",
       "      <th>2</th>\n",
       "      <td>raise_the_red_lantern</td>\n",
       "    </tr>\n",
       "    <tr>\n",
       "      <th>3</th>\n",
       "      <td>the_wind_rises</td>\n",
       "    </tr>\n",
       "    <tr>\n",
       "      <th>4</th>\n",
       "      <td>pokemon_crystal</td>\n",
       "    </tr>\n",
       "    <tr>\n",
       "      <th>5</th>\n",
       "      <td>fauvism</td>\n",
       "    </tr>\n",
       "  </tbody>\n",
       "</table>\n",
       "</div>"
      ],
      "text/plain": [
       "                  result\n",
       "0                     ui\n",
       "1                default\n",
       "2  raise_the_red_lantern\n",
       "3         the_wind_rises\n",
       "4        pokemon_crystal\n",
       "5                fauvism"
      ]
     },
     "execution_count": 8,
     "metadata": {},
     "output_type": "execute_result"
    }
   ],
   "source": [
    "df = pd.DataFrame(colors.json())\n",
    "df"
   ]
  },
  {
   "cell_type": "code",
   "execution_count": null,
   "metadata": {},
   "outputs": [],
   "source": []
  },
  {
   "cell_type": "markdown",
   "metadata": {},
   "source": [
    "# Website Carbon"
   ]
  },
  {
   "cell_type": "code",
   "execution_count": 9,
   "metadata": {},
   "outputs": [],
   "source": [
    "carbon = requests.get('https://api.websitecarbon.com/site?url=https%3A%2F%2Fwww.wholegraindigital.com%2F')"
   ]
  },
  {
   "cell_type": "code",
   "execution_count": 10,
   "metadata": {},
   "outputs": [
    {
     "data": {
      "text/plain": [
       "requests.models.Response"
      ]
     },
     "execution_count": 10,
     "metadata": {},
     "output_type": "execute_result"
    }
   ],
   "source": [
    "type(carbon)"
   ]
  },
  {
   "cell_type": "code",
   "execution_count": 11,
   "metadata": {},
   "outputs": [
    {
     "data": {
      "text/plain": [
       "{'url': 'https://www.wholegraindigital.com/',\n",
       " 'green': True,\n",
       " 'bytes': 328415,\n",
       " 'cleanerThan': 0.93,\n",
       " 'rating': 'A+',\n",
       " 'statistics': {'adjustedBytes': 247953.325,\n",
       "  'energy': 0.0001870488685090095,\n",
       "  'co2': {'grid': {'grams': 0.08267559988098219,\n",
       "    'litres': 0.04598416865380229},\n",
       "   'renewable': {'grams': 0.07167712641265245,\n",
       "    'litres': 0.03986681771071728}}},\n",
       " 'timestamp': 1700586296}"
      ]
     },
     "execution_count": 11,
     "metadata": {},
     "output_type": "execute_result"
    }
   ],
   "source": [
    "data = carbon.json()\n",
    "data"
   ]
  },
  {
   "cell_type": "code",
   "execution_count": 12,
   "metadata": {},
   "outputs": [
    {
     "data": {
      "text/html": [
       "<div>\n",
       "<style scoped>\n",
       "    .dataframe tbody tr th:only-of-type {\n",
       "        vertical-align: middle;\n",
       "    }\n",
       "\n",
       "    .dataframe tbody tr th {\n",
       "        vertical-align: top;\n",
       "    }\n",
       "\n",
       "    .dataframe thead th {\n",
       "        text-align: right;\n",
       "    }\n",
       "</style>\n",
       "<table border=\"1\" class=\"dataframe\">\n",
       "  <thead>\n",
       "    <tr style=\"text-align: right;\">\n",
       "      <th></th>\n",
       "      <th>url</th>\n",
       "      <th>green</th>\n",
       "      <th>bytes</th>\n",
       "      <th>cleanerThan</th>\n",
       "      <th>rating</th>\n",
       "      <th>statistics</th>\n",
       "      <th>timestamp</th>\n",
       "    </tr>\n",
       "  </thead>\n",
       "  <tbody>\n",
       "    <tr>\n",
       "      <th>adjustedBytes</th>\n",
       "      <td>https://www.wholegraindigital.com/</td>\n",
       "      <td>True</td>\n",
       "      <td>328415</td>\n",
       "      <td>0.93</td>\n",
       "      <td>A+</td>\n",
       "      <td>247953.325</td>\n",
       "      <td>1700586296</td>\n",
       "    </tr>\n",
       "    <tr>\n",
       "      <th>co2</th>\n",
       "      <td>https://www.wholegraindigital.com/</td>\n",
       "      <td>True</td>\n",
       "      <td>328415</td>\n",
       "      <td>0.93</td>\n",
       "      <td>A+</td>\n",
       "      <td>{'grid': {'grams': 0.08267559988098219, 'litre...</td>\n",
       "      <td>1700586296</td>\n",
       "    </tr>\n",
       "    <tr>\n",
       "      <th>energy</th>\n",
       "      <td>https://www.wholegraindigital.com/</td>\n",
       "      <td>True</td>\n",
       "      <td>328415</td>\n",
       "      <td>0.93</td>\n",
       "      <td>A+</td>\n",
       "      <td>0.000187</td>\n",
       "      <td>1700586296</td>\n",
       "    </tr>\n",
       "  </tbody>\n",
       "</table>\n",
       "</div>"
      ],
      "text/plain": [
       "                                              url  green   bytes  cleanerThan  \\\n",
       "adjustedBytes  https://www.wholegraindigital.com/   True  328415         0.93   \n",
       "co2            https://www.wholegraindigital.com/   True  328415         0.93   \n",
       "energy         https://www.wholegraindigital.com/   True  328415         0.93   \n",
       "\n",
       "              rating                                         statistics  \\\n",
       "adjustedBytes     A+                                         247953.325   \n",
       "co2               A+  {'grid': {'grams': 0.08267559988098219, 'litre...   \n",
       "energy            A+                                           0.000187   \n",
       "\n",
       "                timestamp  \n",
       "adjustedBytes  1700586296  \n",
       "co2            1700586296  \n",
       "energy         1700586296  "
      ]
     },
     "execution_count": 12,
     "metadata": {},
     "output_type": "execute_result"
    }
   ],
   "source": [
    "data = pd.DataFrame(carbon.json())\n",
    "data"
   ]
  },
  {
   "cell_type": "code",
   "execution_count": 13,
   "metadata": {},
   "outputs": [
    {
     "data": {
      "text/plain": [
       "(3, 7)"
      ]
     },
     "execution_count": 13,
     "metadata": {},
     "output_type": "execute_result"
    }
   ],
   "source": [
    "data.shape"
   ]
  },
  {
   "cell_type": "code",
   "execution_count": 14,
   "metadata": {},
   "outputs": [
    {
     "data": {
      "text/plain": [
       "{'grid': {'grams': 0.08267559988098219, 'litres': 0.04598416865380229},\n",
       " 'renewable': {'grams': 0.07167712641265245, 'litres': 0.03986681771071728}}"
      ]
     },
     "execution_count": 14,
     "metadata": {},
     "output_type": "execute_result"
    }
   ],
   "source": [
    "data['statistics'][1]"
   ]
  },
  {
   "cell_type": "code",
   "execution_count": 15,
   "metadata": {},
   "outputs": [],
   "source": [
    "def flatten(data, col_list):\n",
    "    for column in col_list:\n",
    "        flattened = pd.DataFrame(dict(data[column])).transpose()\n",
    "        columns = [str(col) for col in flattened.columns]\n",
    "        flattened.columns = [column + '_' + colname for colname in columns]\n",
    "        data = pd.concat([data, flattened], axis=1)\n",
    "        data = data.drop(column, axis=1)\n",
    "    return data"
   ]
  },
  {
   "cell_type": "code",
   "execution_count": 16,
   "metadata": {},
   "outputs": [
    {
     "data": {
      "text/plain": [
       "(3, 7)"
      ]
     },
     "execution_count": 16,
     "metadata": {},
     "output_type": "execute_result"
    }
   ],
   "source": [
    "data.shape"
   ]
  },
  {
   "cell_type": "code",
   "execution_count": 17,
   "metadata": {},
   "outputs": [
    {
     "name": "stderr",
     "output_type": "stream",
     "text": [
      "C:\\Users\\jessi\\AppData\\Local\\Temp\\ipykernel_15628\\3011355120.py:4: FutureWarning: pandas.io.json.json_normalize is deprecated, use pandas.json_normalize instead.\n",
      "  flattened_data = json_normalize(results)\n"
     ]
    },
    {
     "data": {
      "text/html": [
       "<div>\n",
       "<style scoped>\n",
       "    .dataframe tbody tr th:only-of-type {\n",
       "        vertical-align: middle;\n",
       "    }\n",
       "\n",
       "    .dataframe tbody tr th {\n",
       "        vertical-align: top;\n",
       "    }\n",
       "\n",
       "    .dataframe thead th {\n",
       "        text-align: right;\n",
       "    }\n",
       "</style>\n",
       "<table border=\"1\" class=\"dataframe\">\n",
       "  <thead>\n",
       "    <tr style=\"text-align: right;\">\n",
       "      <th></th>\n",
       "      <th>url</th>\n",
       "      <th>green</th>\n",
       "      <th>bytes</th>\n",
       "      <th>cleanerThan</th>\n",
       "      <th>rating</th>\n",
       "      <th>timestamp</th>\n",
       "      <th>statistics.adjustedBytes</th>\n",
       "      <th>statistics.energy</th>\n",
       "      <th>statistics.co2.grid.grams</th>\n",
       "      <th>statistics.co2.grid.litres</th>\n",
       "      <th>statistics.co2.renewable.grams</th>\n",
       "      <th>statistics.co2.renewable.litres</th>\n",
       "    </tr>\n",
       "  </thead>\n",
       "  <tbody>\n",
       "    <tr>\n",
       "      <th>0</th>\n",
       "      <td>https://www.wholegraindigital.com/</td>\n",
       "      <td>True</td>\n",
       "      <td>328415</td>\n",
       "      <td>0.93</td>\n",
       "      <td>A+</td>\n",
       "      <td>1700586296</td>\n",
       "      <td>247953.325</td>\n",
       "      <td>0.000187</td>\n",
       "      <td>0.082676</td>\n",
       "      <td>0.045984</td>\n",
       "      <td>0.071677</td>\n",
       "      <td>0.039867</td>\n",
       "    </tr>\n",
       "  </tbody>\n",
       "</table>\n",
       "</div>"
      ],
      "text/plain": [
       "                                  url  green   bytes  cleanerThan rating  \\\n",
       "0  https://www.wholegraindigital.com/   True  328415         0.93     A+   \n",
       "\n",
       "    timestamp  statistics.adjustedBytes  statistics.energy  \\\n",
       "0  1700586296                247953.325           0.000187   \n",
       "\n",
       "   statistics.co2.grid.grams  statistics.co2.grid.litres  \\\n",
       "0                   0.082676                    0.045984   \n",
       "\n",
       "   statistics.co2.renewable.grams  statistics.co2.renewable.litres  \n",
       "0                        0.071677                         0.039867  "
      ]
     },
     "execution_count": 17,
     "metadata": {},
     "output_type": "execute_result"
    }
   ],
   "source": [
    "from pandas.io.json import json_normalize\n",
    "\n",
    "results = carbon.json()\n",
    "flattened_data = json_normalize(results)\n",
    "\n",
    "flattened_data"
   ]
  },
  {
   "cell_type": "code",
   "execution_count": 19,
   "metadata": {},
   "outputs": [
    {
     "name": "stderr",
     "output_type": "stream",
     "text": [
      "C:\\Users\\jessi\\AppData\\Local\\Temp\\ipykernel_15628\\1810905097.py:2: FutureWarning: pandas.io.json.json_normalize is deprecated, use pandas.json_normalize instead.\n",
      "  data2 = json_normalize(data2)\n"
     ]
    },
    {
     "data": {
      "text/html": [
       "<div>\n",
       "<style scoped>\n",
       "    .dataframe tbody tr th:only-of-type {\n",
       "        vertical-align: middle;\n",
       "    }\n",
       "\n",
       "    .dataframe tbody tr th {\n",
       "        vertical-align: top;\n",
       "    }\n",
       "\n",
       "    .dataframe thead th {\n",
       "        text-align: right;\n",
       "    }\n",
       "</style>\n",
       "<table border=\"1\" class=\"dataframe\">\n",
       "  <thead>\n",
       "    <tr style=\"text-align: right;\">\n",
       "      <th></th>\n",
       "      <th>url</th>\n",
       "      <th>green</th>\n",
       "      <th>bytes</th>\n",
       "      <th>cleanerThan</th>\n",
       "      <th>rating</th>\n",
       "      <th>timestamp</th>\n",
       "      <th>statistics.adjustedBytes</th>\n",
       "      <th>statistics.energy</th>\n",
       "      <th>statistics.co2.grid.grams</th>\n",
       "      <th>statistics.co2.grid.litres</th>\n",
       "      <th>statistics.co2.renewable.grams</th>\n",
       "      <th>statistics.co2.renewable.litres</th>\n",
       "    </tr>\n",
       "  </thead>\n",
       "  <tbody>\n",
       "    <tr>\n",
       "      <th>0</th>\n",
       "      <td>https://www.wholegraindigital.com/</td>\n",
       "      <td>True</td>\n",
       "      <td>328580</td>\n",
       "      <td>0.93</td>\n",
       "      <td>A+</td>\n",
       "      <td>1700586255</td>\n",
       "      <td>248077.9</td>\n",
       "      <td>0.000187</td>\n",
       "      <td>0.082717</td>\n",
       "      <td>0.046007</td>\n",
       "      <td>0.071713</td>\n",
       "      <td>0.039887</td>\n",
       "    </tr>\n",
       "  </tbody>\n",
       "</table>\n",
       "</div>"
      ],
      "text/plain": [
       "                                  url  green   bytes  cleanerThan rating  \\\n",
       "0  https://www.wholegraindigital.com/   True  328580         0.93     A+   \n",
       "\n",
       "    timestamp  statistics.adjustedBytes  statistics.energy  \\\n",
       "0  1700586255                  248077.9           0.000187   \n",
       "\n",
       "   statistics.co2.grid.grams  statistics.co2.grid.litres  \\\n",
       "0                   0.082717                    0.046007   \n",
       "\n",
       "   statistics.co2.renewable.grams  statistics.co2.renewable.litres  \n",
       "0                        0.071713                         0.039887  "
      ]
     },
     "execution_count": 19,
     "metadata": {},
     "output_type": "execute_result"
    }
   ],
   "source": [
    "data2 = requests.get('https://api.websitecarbon.com/site?url=https%3A%2F%2Fwww.wholegraindigital.com%2F').json()\n",
    "data2 = json_normalize(data2)\n",
    "data2.shape\n",
    "data2"
   ]
  },
  {
   "cell_type": "code",
   "execution_count": 20,
   "metadata": {},
   "outputs": [
    {
     "data": {
      "text/plain": [
       "(1, 12)"
      ]
     },
     "execution_count": 20,
     "metadata": {},
     "output_type": "execute_result"
    }
   ],
   "source": [
    "flattened_data.shape"
   ]
  },
  {
   "cell_type": "code",
   "execution_count": null,
   "metadata": {},
   "outputs": [],
   "source": []
  },
  {
   "cell_type": "code",
   "execution_count": null,
   "metadata": {},
   "outputs": [],
   "source": []
  },
  {
   "cell_type": "code",
   "execution_count": null,
   "metadata": {},
   "outputs": [],
   "source": []
  },
  {
   "cell_type": "code",
   "execution_count": null,
   "metadata": {},
   "outputs": [],
   "source": []
  },
  {
   "cell_type": "code",
   "execution_count": null,
   "metadata": {},
   "outputs": [],
   "source": []
  },
  {
   "cell_type": "code",
   "execution_count": null,
   "metadata": {},
   "outputs": [],
   "source": []
  },
  {
   "cell_type": "code",
   "execution_count": null,
   "metadata": {},
   "outputs": [],
   "source": []
  },
  {
   "cell_type": "code",
   "execution_count": null,
   "metadata": {},
   "outputs": [],
   "source": []
  },
  {
   "cell_type": "code",
   "execution_count": null,
   "metadata": {},
   "outputs": [],
   "source": []
  },
  {
   "cell_type": "code",
   "execution_count": null,
   "metadata": {},
   "outputs": [],
   "source": []
  },
  {
   "cell_type": "code",
   "execution_count": null,
   "metadata": {},
   "outputs": [],
   "source": []
  },
  {
   "cell_type": "code",
   "execution_count": null,
   "metadata": {},
   "outputs": [],
   "source": []
  },
  {
   "cell_type": "code",
   "execution_count": null,
   "metadata": {},
   "outputs": [],
   "source": []
  },
  {
   "cell_type": "code",
   "execution_count": null,
   "metadata": {},
   "outputs": [],
   "source": []
  },
  {
   "cell_type": "code",
   "execution_count": null,
   "metadata": {},
   "outputs": [],
   "source": []
  },
  {
   "cell_type": "code",
   "execution_count": null,
   "metadata": {},
   "outputs": [],
   "source": []
  },
  {
   "cell_type": "code",
   "execution_count": null,
   "metadata": {},
   "outputs": [],
   "source": []
  }
 ],
 "metadata": {
  "kernelspec": {
   "display_name": "Python 3 (ipykernel)",
   "language": "python",
   "name": "python3"
  },
  "language_info": {
   "codemirror_mode": {
    "name": "ipython",
    "version": 3
   },
   "file_extension": ".py",
   "mimetype": "text/x-python",
   "name": "python",
   "nbconvert_exporter": "python",
   "pygments_lexer": "ipython3",
   "version": "3.11.4"
  }
 },
 "nbformat": 4,
 "nbformat_minor": 4
}
